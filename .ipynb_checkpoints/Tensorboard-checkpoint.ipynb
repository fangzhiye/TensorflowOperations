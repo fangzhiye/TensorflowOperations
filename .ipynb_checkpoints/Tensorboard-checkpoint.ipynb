{
 "cells": [
  {
   "cell_type": "markdown",
   "metadata": {},
   "source": [
    "### 数据序列化\n",
    "* 在TensorFlow中，所有的操作只有当你执行，或者另一个操作依赖于它的输出时才会运行。我们刚才创建的这些节点（summary nodes）都围绕着你的图像"
   ]
  },
  {
   "cell_type": "code",
   "execution_count": null,
   "metadata": {
    "collapsed": true
   },
   "outputs": [],
   "source": [
    "#没有任何操作依赖于它们的结果。因此，为了生成汇总信息，我们需要运行所有这些节点。\n",
    "#这样的手动工作是很乏味的，因此可以使用tf.merge_all_summaries来将他们合并为一个操作\n",
    "merged_summary_op = tf.merge_all_summaries()\n",
    "#SummaryWriter 的构造函数中包含了参数 logdir。这个 logdir 非常重要，所有事件都会写到它所指的目录下。此外，SummaryWriter 中还包含了一个可选择的参数 GraphDef。如果输入了该参数，\n",
    "#那么 TensorBoard 也会显示你的图像\n",
    "summary_writer = tf.train.SummaryWriter('/tmp/mnist_logs', sess.graph)\n",
    "total_step = 0\n",
    "while training:\n",
    "  total_step += 1\n",
    "  session.run(training_op)\n",
    "  if total_step % 100 == 0:\n",
    "    summary_str = session.run(merged_summary_op)\n",
    "    summary_writer.add_summary(summary_str, total_step)\n",
    "#现在已经修改了你的图，也有了 SummaryWriter，现在就可以运行你的神经网络了！如果你愿意的话，你可以每一步执行一次合并汇总，这样你会得到一大堆训练数据。这很有可能超过了你想要的数据量。你也可以每一百步执行一次合并汇总，\n",
    "#或者如下面代码里示范的这样"
   ]
  },
  {
   "cell_type": "markdown",
   "metadata": {},
   "source": [
    "### 名称域（Name scoping）和节点（Node）\n",
    "典型的 TensorFlow 可以有数以千计的节点，如此多而难以一下全部看到，甚至无法使用标准图表工具来展示。为简单起见，我们为变量名划定范围，并且可视化把该信息用于在图表中的节点上定义一个层级。默认情况下， 只有顶层节点会显示。下面这个例子使用tf.name_scope在hidden命名域下定义了三个操作\n",
    "默认地，三个操作名会折叠为一个节点并标注为hidden。其额外细节并没有丢失，你可以双击，或点击右上方橙色的+来展开节点，然后就会看到三个子节点alpha，weights和biases了\n",
    "### tensorboard --logdir=/path/to/log-directory"
   ]
  },
  {
   "cell_type": "code",
   "execution_count": 1,
   "metadata": {
    "collapsed": true
   },
   "outputs": [],
   "source": [
    "import tensorflow as tf\n",
    "with tf.name_scope('hidden') as scope:#name_scope有点像命名空间\n",
    "  a = tf.constant(5, name='alpha')\n",
    "  W = tf.Variable(tf.random_uniform([1, 2], -1.0, 1.0), name='weights')\n",
    "  b = tf.Variable(tf.zeros([1]), name='biases')"
   ]
  },
  {
   "cell_type": "code",
   "execution_count": 5,
   "metadata": {},
   "outputs": [],
   "source": [
    "init_op = tf.global_variables_initializer()\n",
    "merged_summary_op = tf.summary.merge_all()\n",
    "# Later, when launching the model\n",
    "with tf.Session() as sess:\n",
    "  # Run the init operation.\n",
    "  summary_writer = tf.summary.FileWriter('./tmp/logs', sess.graph)#返回操作信息\n",
    "  summary_str = sess.run(init_op)\n",
    "  summary_writer.add_summary(summary_str)#写入文件中"
   ]
  },
  {
   "cell_type": "markdown",
   "metadata": {},
   "source": [
    "* ![结果1](./tensorboard_1.png)\n",
    "* ![结果2](./tensorboard_2.png)"
   ]
  },
  {
   "cell_type": "code",
   "execution_count": null,
   "metadata": {
    "collapsed": true
   },
   "outputs": [],
   "source": []
  }
 ],
 "metadata": {
  "kernelspec": {
   "display_name": "Python 3",
   "language": "python",
   "name": "python3"
  },
  "language_info": {
   "codemirror_mode": {
    "name": "ipython",
    "version": 3
   },
   "file_extension": ".py",
   "mimetype": "text/x-python",
   "name": "python",
   "nbconvert_exporter": "python",
   "pygments_lexer": "ipython3",
   "version": "3.6.2"
  }
 },
 "nbformat": 4,
 "nbformat_minor": 2
}
